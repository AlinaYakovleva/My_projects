{
 "cells": [
  {
   "cell_type": "markdown",
   "metadata": {},
   "source": [
    " # Задание 1\n",
    "\n",
    "Имеется три таблицы: customers, transactions, merchants (клиенты, транзакции и магазины, соответственно). Необходимо написать запросы и предложить визуализацию (где основной пользователь - Менеджер) для:"
   ]
  },
  {
   "cell_type": "raw",
   "metadata": {},
   "source": [
    "1.1 Определения регионов, в которых клиенты потратили больше всего средств в текущем году.\n",
    "\n",
    "SELECT \n",
    "\tmerchant_region,\n",
    "\tsum(transaction_sum) as transaction_sum\n",
    "from\n",
    "\t(\n",
    "\tselect \n",
    "\t\tTransactions.transaction_id as transaction_id,\n",
    "\t\tTransactions.merchant_id as merchant_id,\n",
    "\t\tTransactions.transaction_sum as transaction_sum,\n",
    "\t\tTransactions.transaction_dttm as transaction_dttm,\n",
    "\t\tTransactions.customer_id as customer_id,\n",
    "\t\tMerchants.merchant_region as merchant_region\n",
    "\tfrom Transactions\n",
    "\tleft join Merchants\n",
    "\ton Transactions.merchant_id=Merchants.merchant_id\n",
    "\t)\n",
    "WHERE transaction_dttm > '2022-01-01'\n",
    "group by merchant_region\n",
    "ORDER by transaction_sum DESC \n"
   ]
  },
  {
   "cell_type": "raw",
   "metadata": {},
   "source": [
    "1.2 Определения, в каких категориях магазинов самый высокий средний чек транзакции\n",
    "\n",
    "SELECT \n",
    "\tmerchant_type_id,\n",
    "\tavg(transaction_sum) as avg_transaction_sum\n",
    "from\n",
    "\t(\n",
    "\tselect \n",
    "\t\tTransactions.transaction_id as transaction_id,\n",
    "\t\tTransactions.merchant_id as merchant_id,\n",
    "\t\tTransactions.transaction_sum as transaction_sum,\n",
    "\t\tTransactions.transaction_dttm as transaction_dttm,\n",
    "\t\tTransactions.customer_id as customer_id,\n",
    "\t\tMerchants.merchant_type_id as merchant_type_id\n",
    "\tfrom Transactions\n",
    "\tleft join Merchants\n",
    "\ton Transactions.merchant_id=Merchants.merchant_id\n",
    "\t)\n",
    "group by merchant_type_id\n",
    "ORDER by avg_transaction_sum DESC \n",
    "-- limit 3 (если необходимо составить ограниченный список, например, топ-3 категорий магазинов с высоким средним чеком)"
   ]
  },
  {
   "cell_type": "raw",
   "metadata": {},
   "source": [
    "3.3 Анализа характера и частоты транзакций клиентов, основываясь на их возрасте\n",
    "\n",
    "SELECT\n",
    "\tSTRFTIME('%Y', transaction_dttm) as transaction_dttm,\n",
    "\tcategory_age,\n",
    "\tmerchant_type_id,\n",
    "\tcount(transaction_id) as count_transactions,\n",
    "\tavg(transaction_sum) as avg_transaction_sum\n",
    "from\n",
    "\t(\n",
    "\tselect \n",
    "\t\tTransactions.transaction_id as transaction_id,\n",
    "\t\tTransactions.merchant_id as merchant_id,\n",
    "\t\tTransactions.transaction_sum as transaction_sum,\n",
    "\t\tTransactions.transaction_dttm as transaction_dttm,\n",
    "\t\tTransactions.customer_id as customer_id,\n",
    "\t\tMerchants.merchant_type_id as merchant_type_id,\n",
    "\t\tCustomers.customer_age as customer_age,\n",
    "\t\tcase \n",
    "\t\twhen customer_age > 0 and customer_age < 20 then '0-20'\n",
    "\t\twhen customer_age >= 20 and customer_age < 30 then '20-30'\n",
    "\t\twhen customer_age >= 30 and customer_age < 40 then '30-40'\n",
    "\t\twhen customer_age >= 40 and customer_age < 50 then '40-50'\n",
    "\t\twhen customer_age >= 50 then '>50'\n",
    "\t\telse 'anomaly'\n",
    "\tend as category_age\n",
    "\tfrom Transactions\n",
    "\tleft join Merchants\n",
    "\ton Transactions.merchant_id=Merchants.merchant_id\n",
    "\tleft join Customers\n",
    "\ton Transactions.customer_id=Customers.customer_id\n",
    "\t)\n",
    "group by \t\n",
    "\tSTRFTIME('%Y', transaction_dttm),\n",
    "\tcategory_age,\n",
    "\tmerchant_type_id\n",
    "ORDER by transaction_dttm asc,\n",
    "\tcategory_age Asc, \n",
    "\tcount_transactions DESC "
   ]
  },
  {
   "cell_type": "markdown",
   "metadata": {},
   "source": [
    "# Задание 1.1\n",
    "необходимо подумать и предложить вычисления (метрики, показатели и тд), результаты которых будут нести какой-то смысл. Описать или приложить графиком пример визуализации этих данных для дашборда, который будет использовать менеджер, отвечающий за развитие бизнеса."
   ]
  },
  {
   "cell_type": "raw",
   "metadata": {},
   "source": [
    "Из представленных данных, на мой взгляд Менеджеру будут интересны следующие показатели:\n",
    "- Выручка за период (день/неделя/месяц),\n",
    "- средний чек за период,\n",
    "- количество покупок,\n",
    "- LTV (выручка от новых пользователей/количество новых пользователей за период),\n",
    "- ARPPU.\n",
    "Также необходимо отслежить данные показатели не только по бизнесу в целом, но и в разрезе регионов, магазинов, типов продукта, кагорт пользователей.\n",
    "\n",
    "В моем примере дашборда в верхней части представлены вышеуказанные метрики, далее представлен график с динамикой выручки по дням за мериод (месяц), затем расположены 4 барплота, демонстрирующие прибыльность (показатель выручки) и популярность (кол-во покупок) в разрезе магазинов и типа продукта. Графики, расположенные справа, демонстрируют прибыльность и популярность бизнеса у разных возрастных когорт пользователей (возможно, такой анализ окажется полезным для таргетинга).\n",
    "\n",
    "Дашборд доступен по ссылке:\n",
    "https://public.tableau.com/app/profile/alina5007/viz/Dashboardfortest/Dashboard1?publish=yes"
   ]
  },
  {
   "cell_type": "markdown",
   "metadata": {},
   "source": [
    " # Задание 2"
   ]
  },
  {
   "cell_type": "raw",
   "metadata": {},
   "source": [
    "2.1 Написать SQL-запрос для поиска задублированных в результате ошибки транзакций\n",
    "Данные:\n",
    "purchases:\n",
    "○ transaction_id\n",
    "○ datetime\n",
    "○ amount\n",
    "○ user_id\n",
    "\n",
    "SELECT *\n",
    "FROM \n",
    "\t(\n",
    "\tSELECT \n",
    "\t\ttransaction_id,\n",
    "\t\tamount, \n",
    "\t\tdatetime, \n",
    "\t\tuser_id,\n",
    "\t\trow_number() over transactions as row_numbers\n",
    "\tfrom purchases \n",
    "\twindow transactions as \n",
    "\t\t(\n",
    "\t\tpartition by transaction_id \n",
    "\t\t)\n",
    "\t) as duplicates\n",
    "Where \n",
    "\trow_numbers > 1\n",
    "Order by \n",
    "\ttransaction_id asc"
   ]
  },
  {
   "cell_type": "raw",
   "metadata": {},
   "source": [
    "2.2 Написать SQL-запрос для построения воронки перехода из установки в оформление пробного периода и в покупку платной версии приложения в разрезе стран. На одного юзера возможна только одно оформление пробного периода и одна\n",
    "покупка платной версии. Покупка возможна только после истечения срока пробного периода. На выходе должна получится таблица с колонками “country”, “installs”, “trials”, “purchases”, “conversion_rate_to_trial”, “conversion_rate_to_purchase”\n",
    "Схема данных:\n",
    "events:\n",
    "○ transaction_id\n",
    "○ datetime\n",
    "○ event_type (значение может быть либо “instal”, либо “trial”, либо “purchase”)\n",
    "○ user_id\n",
    "○ country\n",
    "\n",
    "\n",
    "SELECT \n",
    "\tcountry,\n",
    "\tsum(installs) as installs,\n",
    "\tsum(trials) as trials,\n",
    "\tsum(purchaces) as purchaces,\n",
    "\tround(1.00*sum(trials)/sum(installs)*100.00) as conversion_rate_to_trial,          -- конверсия из установки в оформление пробного периода (в %)\n",
    "\tround(1.00*sum(purchaces)/sum(trials)*100.00) as conversion_rate_to_purchase       -- конверсия из оформления пробного периода в покупку (в %)\n",
    "from\n",
    "\t(\n",
    "\tSELECT\n",
    "\tevent_type,\n",
    "\tuser_id,\n",
    "\tcountry,\n",
    "\tevent_type = 'installs' as installs,\n",
    "\tevent_type = 'trials' as trials,\n",
    "\tevent_type = 'purchaces' as purchaces\n",
    "\tfrom events\n",
    "\t) as ttt\n",
    "group by country"
   ]
  }
 ],
 "metadata": {
  "kernelspec": {
   "display_name": "Python 3",
   "language": "python",
   "name": "python3"
  },
  "language_info": {
   "codemirror_mode": {
    "name": "ipython",
    "version": 3
   },
   "file_extension": ".py",
   "mimetype": "text/x-python",
   "name": "python",
   "nbconvert_exporter": "python",
   "pygments_lexer": "ipython3",
   "version": "3.7.6"
  }
 },
 "nbformat": 4,
 "nbformat_minor": 4
}
