{
 "cells": [
  {
   "cell_type": "raw",
   "metadata": {},
   "source": [
    "Имеется одна таблица: st_tasks\n",
    "Состав столбцов в таблице:\n",
    "-key (уникальный идентификатор задачи)\n",
    "-assignee (уникальный идентификатор исполнителя)\n",
    "-status (статус задачи 'Open', 'On support side', 'Verifying', 'Close', и т.д.)\n",
    "-updated (timestamp последнего обновления задачи)\n",
    "-created (timestamp создания задачи).\n",
    "\n",
    "Пусть в переменной assigneeList лежит список уникальных идентификаторов исполнителей. Идентификаторы в этом списке не повторяются. Суть задания состоит в том, чтобы перераспределить задачи исполнителей из этого списка, которые находятся дольше days дней в статусах 'Open', 'On support side', 'Verifying' между исполнителями так, чтобы их нагрузка стала одинаковой (или примерно одинаковой с минимальной разницей). Под нагрузкой исполнителя понимается количество его задач в статусах 'Open', 'On support side', 'Verifying'."
   ]
  },
  {
   "cell_type": "code",
   "execution_count": 134,
   "metadata": {},
   "outputs": [],
   "source": [
    "st_tasks['updated'] = pd.to_datetime(st_tasks['updated'])\n",
    "st_tasks['created'] = pd.to_datetime(st_tasks['created'])"
   ]
  },
  {
   "cell_type": "code",
   "execution_count": 135,
   "metadata": {},
   "outputs": [],
   "source": [
    "st_tasks['time_diff'] = st_tasks['updated'] - st_tasks['created']"
   ]
  },
  {
   "cell_type": "code",
   "execution_count": 136,
   "metadata": {},
   "outputs": [],
   "source": [
    "st_tasks['time_diff'] = st_tasks.time_diff.dt.days"
   ]
  },
  {
   "cell_type": "code",
   "execution_count": 137,
   "metadata": {},
   "outputs": [],
   "source": [
    "# Задачи, требующие распределения и находящиеся больше $days в статусаx Open и т.д.\n",
    "query1 = st_tasks.query('status != \"Close\" and time_diff > @days')\\\n",
    "                .sort_values('assignee')\\\n",
    "                [['key', 'assignee']]"
   ]
  },
  {
   "cell_type": "code",
   "execution_count": 138,
   "metadata": {},
   "outputs": [],
   "source": [
    "# Исполнители и количество их задач\n",
    "query2 = st_tasks.query('status != \"Close\"')\\\n",
    "                .groupby('assignee', as_index=False)\\\n",
    "                .agg({'key':'count'})\\\n",
    "                .rename(columns={'key':'needTasks'})\\\n",
    "                .sort_values('assignee')"
   ]
  },
  {
   "cell_type": "code",
   "execution_count": 159,
   "metadata": {},
   "outputs": [],
   "source": [
    "# Распределение всех отобранных задач между исполнителями.\n",
    "def distribute_work(assignee, tasks):\n",
    "    count_of_assignees = query2.shape[0]\n",
    "    tasks_for_assignee = itertools.tee(tasks, count_of_assignees)\n",
    "    assignments = [(assignee[x], itertools.islice(i, x, None, count_of_assignees))\n",
    "                    for (x,i) in enumerate(tasks_for_assignee)]    \n",
    "    return(assignments)"
   ]
  },
  {
   "cell_type": "code",
   "execution_count": 160,
   "metadata": {
    "scrolled": false
   },
   "outputs": [
    {
     "name": "stdout",
     "output_type": "stream",
     "text": [
      "assignee1 ('id-13', 'id-27')\n",
      "assignee10 ('id-11', 'id-9')\n",
      "assignee2 ('id-28', 'id-19')\n",
      "assignee3 ('id-29', 'id-21')\n",
      "assignee4 ('id-10',)\n",
      "assignee5 ('id-30',)\n",
      "assignee6 ('id-23',)\n",
      "assignee7 ('id-12',)\n",
      "assignee8 ('id-20',)\n",
      "assignee9 ('id-25',)\n"
     ]
    }
   ],
   "source": [
    "for (assignee,tasks) in distribute_work(query2.assignee, query1.key):\n",
    "    print(assignee, tuple(tasks))"
   ]
  }
 ],
 "metadata": {
  "kernelspec": {
   "display_name": "Python 3",
   "language": "python",
   "name": "python3"
  },
  "language_info": {
   "codemirror_mode": {
    "name": "ipython",
    "version": 3
   },
   "file_extension": ".py",
   "mimetype": "text/x-python",
   "name": "python",
   "nbconvert_exporter": "python",
   "pygments_lexer": "ipython3",
   "version": "3.7.6"
  }
 },
 "nbformat": 4,
 "nbformat_minor": 4
}
