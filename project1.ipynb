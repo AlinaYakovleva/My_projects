{
 "cells": [
  {
   "cell_type": "markdown",
   "metadata": {},
   "source": [
    "Представьте, что вы аналитик в компании, которая разрабатывает приложение для обработки и оформления фотографий в формате Stories (например, для дальнейшего экспорта в Instagram Stories). Был проведен A/B тест: тестовой группе предлагалась новая модель оплаты коллекций шаблонов, контрольной – старая механика. Ваша основная задача: проанализировать итоги эксперимента и решить, нужно ли выкатывать новую модель на остальных пользователей.\n",
    "\n",
    "В ходе отчета обоснуйте выбор метрик, на которые вы обращаете внимание. Если различия есть, то объясните, с чем они могут быть связаны и являются ли значимыми."
   ]
  },
  {
   "cell_type": "code",
   "execution_count": 1,
   "metadata": {},
   "outputs": [],
   "source": [
    "import numpy as np\n",
    "import pandas as pd\n",
    "from scipy import stats\n",
    "import matplotlib.pyplot as plt\n",
    "import seaborn as sns\n",
    "from tqdm.auto import tqdm\n",
    "import plotly.express as px"
   ]
  },
  {
   "cell_type": "code",
   "execution_count": 2,
   "metadata": {},
   "outputs": [],
   "source": [
    "path1 = '/home/jupyter-a.jakovleva-13/final_project/Проект_4_active_users.csv'\n",
    "path2 = '/home/jupyter-a.jakovleva-13/final_project/Проект_4_groups.csv'\n",
    "path3 = '/home/jupyter-a.jakovleva-13/final_project/Проект_4_purchases.csv'\n",
    "active_users = pd.read_csv(path1) #информация о пользователях, которые посещали приложение во время эксперимента.\n",
    "groups       = pd.read_csv(path2) #разбивка пользователей на контрольную (А) и тестовую (В) группы. \n",
    "purchases    = pd.read_csv(path3) #данные о транзакциях (оплатах) пользователей приложения во время эксперимента "
   ]
  },
  {
   "cell_type": "code",
   "execution_count": 3,
   "metadata": {
    "scrolled": true
   },
   "outputs": [
    {
     "name": "stdout",
     "output_type": "stream",
     "text": [
      "8341 74576 541\n"
     ]
    }
   ],
   "source": [
    "# изучение данных\n",
    "active_users.dtypes\n",
    "groups.dtypes\n",
    "purchases.dtypes\n",
    "\n",
    "#проверка уникальности user_id\n",
    "active_users.user_id.nunique() == active_users.shape[0]\n",
    "purchases.user_id.nunique() == purchases.shape[0] \n",
    "groups.user_id.nunique() == groups.shape[0]\n",
    "\n",
    "print(active_users.shape[0], groups.shape[0], purchases.shape[0])"
   ]
  },
  {
   "cell_type": "code",
   "execution_count": 4,
   "metadata": {
    "scrolled": true
   },
   "outputs": [
    {
     "data": {
      "text/plain": [
       "B    59883\n",
       "A    14693\n",
       "Name: group, dtype: int64"
      ]
     },
     "execution_count": 4,
     "metadata": {},
     "output_type": "execute_result"
    }
   ],
   "source": [
    "groups.group.value_counts() # количество польз-лей в тестовой группе в 4 раза больше, чем в контрольной."
   ]
  },
  {
   "cell_type": "code",
   "execution_count": 5,
   "metadata": {},
   "outputs": [
    {
     "data": {
      "text/html": [
       "<div>\n",
       "<style scoped>\n",
       "    .dataframe tbody tr th:only-of-type {\n",
       "        vertical-align: middle;\n",
       "    }\n",
       "\n",
       "    .dataframe tbody tr th {\n",
       "        vertical-align: top;\n",
       "    }\n",
       "\n",
       "    .dataframe thead th {\n",
       "        text-align: right;\n",
       "    }\n",
       "</style>\n",
       "<table border=\"1\" class=\"dataframe\">\n",
       "  <thead>\n",
       "    <tr style=\"text-align: right;\">\n",
       "      <th></th>\n",
       "      <th>user_id</th>\n",
       "      <th>country</th>\n",
       "      <th>platform</th>\n",
       "      <th>sex</th>\n",
       "    </tr>\n",
       "  </thead>\n",
       "  <tbody>\n",
       "    <tr>\n",
       "      <th>0</th>\n",
       "      <td>8029</td>\n",
       "      <td>Russia</td>\n",
       "      <td>ios</td>\n",
       "      <td>male</td>\n",
       "    </tr>\n",
       "    <tr>\n",
       "      <th>1</th>\n",
       "      <td>1735</td>\n",
       "      <td>Sweden</td>\n",
       "      <td>ios</td>\n",
       "      <td>male</td>\n",
       "    </tr>\n",
       "    <tr>\n",
       "      <th>2</th>\n",
       "      <td>7697</td>\n",
       "      <td>Russia</td>\n",
       "      <td>android</td>\n",
       "      <td>male</td>\n",
       "    </tr>\n",
       "    <tr>\n",
       "      <th>3</th>\n",
       "      <td>1421</td>\n",
       "      <td>Sweden</td>\n",
       "      <td>android</td>\n",
       "      <td>female</td>\n",
       "    </tr>\n",
       "    <tr>\n",
       "      <th>4</th>\n",
       "      <td>1704</td>\n",
       "      <td>Russia</td>\n",
       "      <td>ios</td>\n",
       "      <td>male</td>\n",
       "    </tr>\n",
       "  </tbody>\n",
       "</table>\n",
       "</div>"
      ],
      "text/plain": [
       "   user_id country platform     sex\n",
       "0     8029  Russia      ios    male\n",
       "1     1735  Sweden      ios    male\n",
       "2     7697  Russia  android    male\n",
       "3     1421  Sweden  android  female\n",
       "4     1704  Russia      ios    male"
      ]
     },
     "execution_count": 5,
     "metadata": {},
     "output_type": "execute_result"
    }
   ],
   "source": [
    "active_users.head()"
   ]
  },
  {
   "cell_type": "code",
   "execution_count": 6,
   "metadata": {},
   "outputs": [
    {
     "data": {
      "text/html": [
       "<div>\n",
       "<style scoped>\n",
       "    .dataframe tbody tr th:only-of-type {\n",
       "        vertical-align: middle;\n",
       "    }\n",
       "\n",
       "    .dataframe tbody tr th {\n",
       "        vertical-align: top;\n",
       "    }\n",
       "\n",
       "    .dataframe thead th {\n",
       "        text-align: right;\n",
       "    }\n",
       "</style>\n",
       "<table border=\"1\" class=\"dataframe\">\n",
       "  <thead>\n",
       "    <tr style=\"text-align: right;\">\n",
       "      <th></th>\n",
       "      <th>user_id</th>\n",
       "      <th>group</th>\n",
       "    </tr>\n",
       "  </thead>\n",
       "  <tbody>\n",
       "    <tr>\n",
       "      <th>0</th>\n",
       "      <td>9149</td>\n",
       "      <td>B</td>\n",
       "    </tr>\n",
       "    <tr>\n",
       "      <th>1</th>\n",
       "      <td>9150</td>\n",
       "      <td>B</td>\n",
       "    </tr>\n",
       "    <tr>\n",
       "      <th>2</th>\n",
       "      <td>9151</td>\n",
       "      <td>A</td>\n",
       "    </tr>\n",
       "    <tr>\n",
       "      <th>3</th>\n",
       "      <td>9152</td>\n",
       "      <td>B</td>\n",
       "    </tr>\n",
       "    <tr>\n",
       "      <th>4</th>\n",
       "      <td>9153</td>\n",
       "      <td>B</td>\n",
       "    </tr>\n",
       "  </tbody>\n",
       "</table>\n",
       "</div>"
      ],
      "text/plain": [
       "   user_id group\n",
       "0     9149     B\n",
       "1     9150     B\n",
       "2     9151     A\n",
       "3     9152     B\n",
       "4     9153     B"
      ]
     },
     "execution_count": 6,
     "metadata": {},
     "output_type": "execute_result"
    }
   ],
   "source": [
    "groups.head()"
   ]
  },
  {
   "cell_type": "code",
   "execution_count": 7,
   "metadata": {},
   "outputs": [
    {
     "data": {
      "text/html": [
       "<div>\n",
       "<style scoped>\n",
       "    .dataframe tbody tr th:only-of-type {\n",
       "        vertical-align: middle;\n",
       "    }\n",
       "\n",
       "    .dataframe tbody tr th {\n",
       "        vertical-align: top;\n",
       "    }\n",
       "\n",
       "    .dataframe thead th {\n",
       "        text-align: right;\n",
       "    }\n",
       "</style>\n",
       "<table border=\"1\" class=\"dataframe\">\n",
       "  <thead>\n",
       "    <tr style=\"text-align: right;\">\n",
       "      <th></th>\n",
       "      <th>user_id</th>\n",
       "      <th>revenue</th>\n",
       "      <th>purchase</th>\n",
       "    </tr>\n",
       "  </thead>\n",
       "  <tbody>\n",
       "    <tr>\n",
       "      <th>0</th>\n",
       "      <td>4412</td>\n",
       "      <td>1000.0</td>\n",
       "      <td>1</td>\n",
       "    </tr>\n",
       "    <tr>\n",
       "      <th>1</th>\n",
       "      <td>9000</td>\n",
       "      <td>701.0</td>\n",
       "      <td>1</td>\n",
       "    </tr>\n",
       "    <tr>\n",
       "      <th>2</th>\n",
       "      <td>9001</td>\n",
       "      <td>700.0</td>\n",
       "      <td>1</td>\n",
       "    </tr>\n",
       "    <tr>\n",
       "      <th>3</th>\n",
       "      <td>9002</td>\n",
       "      <td>702.0</td>\n",
       "      <td>1</td>\n",
       "    </tr>\n",
       "    <tr>\n",
       "      <th>4</th>\n",
       "      <td>5790</td>\n",
       "      <td>1002.0</td>\n",
       "      <td>1</td>\n",
       "    </tr>\n",
       "  </tbody>\n",
       "</table>\n",
       "</div>"
      ],
      "text/plain": [
       "   user_id  revenue  purchase\n",
       "0     4412   1000.0         1\n",
       "1     9000    701.0         1\n",
       "2     9001    700.0         1\n",
       "3     9002    702.0         1\n",
       "4     5790   1002.0         1"
      ]
     },
     "execution_count": 7,
     "metadata": {},
     "output_type": "execute_result"
    }
   ],
   "source": [
    "purchases['purchase'] = 1\n",
    "purchases.head()"
   ]
  },
  {
   "cell_type": "code",
   "execution_count": 8,
   "metadata": {},
   "outputs": [
    {
     "data": {
      "text/plain": [
       "True"
      ]
     },
     "execution_count": 8,
     "metadata": {},
     "output_type": "execute_result"
    }
   ],
   "source": [
    "purchases.user_id.value_counts()\n",
    "purchases.user_id.nunique() == purchases.shape[0] #проверка уникальности user_id"
   ]
  },
  {
   "cell_type": "code",
   "execution_count": 9,
   "metadata": {},
   "outputs": [],
   "source": [
    "all_users = groups.merge(purchases,  how='left',on='user_id').merge(active_users,  how='left',on='user_id')"
   ]
  },
  {
   "cell_type": "code",
   "execution_count": 10,
   "metadata": {},
   "outputs": [],
   "source": [
    "users_isna = all_users.isna().query('revenue == False and sex == True').shape[0]"
   ]
  },
  {
   "cell_type": "code",
   "execution_count": 11,
   "metadata": {},
   "outputs": [
    {
     "data": {
      "text/html": [
       "<div>\n",
       "<style scoped>\n",
       "    .dataframe tbody tr th:only-of-type {\n",
       "        vertical-align: middle;\n",
       "    }\n",
       "\n",
       "    .dataframe tbody tr th {\n",
       "        vertical-align: top;\n",
       "    }\n",
       "\n",
       "    .dataframe thead th {\n",
       "        text-align: right;\n",
       "    }\n",
       "</style>\n",
       "<table border=\"1\" class=\"dataframe\">\n",
       "  <thead>\n",
       "    <tr style=\"text-align: right;\">\n",
       "      <th></th>\n",
       "      <th>user_id</th>\n",
       "      <th>group</th>\n",
       "      <th>revenue</th>\n",
       "      <th>purchase</th>\n",
       "      <th>country</th>\n",
       "      <th>platform</th>\n",
       "      <th>sex</th>\n",
       "    </tr>\n",
       "  </thead>\n",
       "  <tbody>\n",
       "    <tr>\n",
       "      <th>60</th>\n",
       "      <td>9061</td>\n",
       "      <td>B</td>\n",
       "      <td>699.0</td>\n",
       "      <td>1.0</td>\n",
       "      <td>NaN</td>\n",
       "      <td>NaN</td>\n",
       "      <td>NaN</td>\n",
       "    </tr>\n",
       "    <tr>\n",
       "      <th>372</th>\n",
       "      <td>1488</td>\n",
       "      <td>B</td>\n",
       "      <td>NaN</td>\n",
       "      <td>NaN</td>\n",
       "      <td>Russia</td>\n",
       "      <td>android</td>\n",
       "      <td>male</td>\n",
       "    </tr>\n",
       "    <tr>\n",
       "      <th>593</th>\n",
       "      <td>9036</td>\n",
       "      <td>B</td>\n",
       "      <td>300.0</td>\n",
       "      <td>1.0</td>\n",
       "      <td>NaN</td>\n",
       "      <td>NaN</td>\n",
       "      <td>NaN</td>\n",
       "    </tr>\n",
       "    <tr>\n",
       "      <th>594</th>\n",
       "      <td>9073</td>\n",
       "      <td>B</td>\n",
       "      <td>702.0</td>\n",
       "      <td>1.0</td>\n",
       "      <td>NaN</td>\n",
       "      <td>NaN</td>\n",
       "      <td>NaN</td>\n",
       "    </tr>\n",
       "    <tr>\n",
       "      <th>649</th>\n",
       "      <td>5125</td>\n",
       "      <td>B</td>\n",
       "      <td>NaN</td>\n",
       "      <td>NaN</td>\n",
       "      <td>Russia</td>\n",
       "      <td>ios</td>\n",
       "      <td>female</td>\n",
       "    </tr>\n",
       "    <tr>\n",
       "      <th>...</th>\n",
       "      <td>...</td>\n",
       "      <td>...</td>\n",
       "      <td>...</td>\n",
       "      <td>...</td>\n",
       "      <td>...</td>\n",
       "      <td>...</td>\n",
       "      <td>...</td>\n",
       "    </tr>\n",
       "    <tr>\n",
       "      <th>74571</th>\n",
       "      <td>1010</td>\n",
       "      <td>B</td>\n",
       "      <td>NaN</td>\n",
       "      <td>NaN</td>\n",
       "      <td>Sweden</td>\n",
       "      <td>android</td>\n",
       "      <td>male</td>\n",
       "    </tr>\n",
       "    <tr>\n",
       "      <th>74572</th>\n",
       "      <td>7785</td>\n",
       "      <td>A</td>\n",
       "      <td>NaN</td>\n",
       "      <td>NaN</td>\n",
       "      <td>Sweden</td>\n",
       "      <td>android</td>\n",
       "      <td>male</td>\n",
       "    </tr>\n",
       "    <tr>\n",
       "      <th>74573</th>\n",
       "      <td>1783</td>\n",
       "      <td>B</td>\n",
       "      <td>NaN</td>\n",
       "      <td>NaN</td>\n",
       "      <td>Russia</td>\n",
       "      <td>ios</td>\n",
       "      <td>female</td>\n",
       "    </tr>\n",
       "    <tr>\n",
       "      <th>74574</th>\n",
       "      <td>1164</td>\n",
       "      <td>A</td>\n",
       "      <td>NaN</td>\n",
       "      <td>NaN</td>\n",
       "      <td>Sweden</td>\n",
       "      <td>android</td>\n",
       "      <td>male</td>\n",
       "    </tr>\n",
       "    <tr>\n",
       "      <th>74575</th>\n",
       "      <td>6282</td>\n",
       "      <td>B</td>\n",
       "      <td>NaN</td>\n",
       "      <td>NaN</td>\n",
       "      <td>Russia</td>\n",
       "      <td>android</td>\n",
       "      <td>female</td>\n",
       "    </tr>\n",
       "  </tbody>\n",
       "</table>\n",
       "<p>8490 rows × 7 columns</p>\n",
       "</div>"
      ],
      "text/plain": [
       "       user_id group  revenue  purchase country platform     sex\n",
       "60        9061     B    699.0       1.0     NaN      NaN     NaN\n",
       "372       1488     B      NaN       NaN  Russia  android    male\n",
       "593       9036     B    300.0       1.0     NaN      NaN     NaN\n",
       "594       9073     B    702.0       1.0     NaN      NaN     NaN\n",
       "649       5125     B      NaN       NaN  Russia      ios  female\n",
       "...        ...   ...      ...       ...     ...      ...     ...\n",
       "74571     1010     B      NaN       NaN  Sweden  android    male\n",
       "74572     7785     A      NaN       NaN  Sweden  android    male\n",
       "74573     1783     B      NaN       NaN  Russia      ios  female\n",
       "74574     1164     A      NaN       NaN  Sweden  android    male\n",
       "74575     6282     B      NaN       NaN  Russia  android  female\n",
       "\n",
       "[8490 rows x 7 columns]"
      ]
     },
     "execution_count": 11,
     "metadata": {},
     "output_type": "execute_result"
    }
   ],
   "source": [
    "# удаление пропущенных значений\n",
    "users = all_users.dropna(how='all', subset=['revenue', 'sex'])\n",
    "users"
   ]
  },
  {
   "cell_type": "code",
   "execution_count": 12,
   "metadata": {},
   "outputs": [
    {
     "name": "stdout",
     "output_type": "stream",
     "text": [
      "True\n",
      "True\n",
      "2\n",
      "8490\n"
     ]
    }
   ],
   "source": [
    "# проверка merge == True, 2, 8490\n",
    "print(users.revenue.sum() == purchases.revenue.sum())\n",
    "print(users.shape[0] == (users_isna + active_users.shape[0]))\n",
    "print(users.group.nunique())\n",
    "print(users.user_id.nunique())"
   ]
  },
  {
   "cell_type": "code",
   "execution_count": 13,
   "metadata": {},
   "outputs": [],
   "source": [
    "users = users.fillna(0)"
   ]
  },
  {
   "cell_type": "markdown",
   "metadata": {},
   "source": [
    "## Формирование метрик, анализ"
   ]
  },
  {
   "cell_type": "code",
   "execution_count": 15,
   "metadata": {},
   "outputs": [],
   "source": [
    "# называем переменные\n",
    "\n",
    "revenue_sum_A = users[users.group == 'A'].revenue.sum()     # общий доход\n",
    "revenue_sum_B = users[users.group == 'B'].revenue.sum()\n",
    "\n",
    "purchase_sum_A = users[users.group == 'A'].purchase.sum()   # сумма покупок\n",
    "purchase_sum_B = users[users.group == 'B'].purchase.sum()\n",
    "\n",
    "all_users_A = users.query('group == \"A\"').shape[0]          # кол-во польз-лей за период эксперимента\n",
    "all_users_B = users.query('group == \"B\"').shape[0]"
   ]
  },
  {
   "cell_type": "markdown",
   "metadata": {},
   "source": [
    "Метрики по группам"
   ]
  },
  {
   "cell_type": "code",
   "execution_count": 16,
   "metadata": {},
   "outputs": [],
   "source": [
    "# выручка \n",
    "\n",
    "revenue_sum_A\n",
    "revenue_sum_B\n",
    "\n",
    "# конверсия в покупку\n",
    "CR_A = purchase_sum_A / all_users_A\n",
    "CR_B = purchase_sum_B / all_users_B\n",
    "\n",
    "# средний чек\n",
    "avg_A = revenue_sum_A / purchase_sum_A\n",
    "avg_B = revenue_sum_B / purchase_sum_B\n",
    "\n",
    "# коэффициент повторных покупок == 1 (так как изначально считаем, что пользователь совершает только 1 покупку)\n",
    "repeat_purchases_A = 1\n",
    "repeat_purchases_B = 1\n",
    "\n",
    "# ARPPU \n",
    "ARPPU_A = repeat_purchases_A * avg_A\n",
    "ARPPU_B = repeat_purchases_B * avg_B\n",
    "\n",
    "# ARPU \n",
    "ARPU_A = revenue_sum_A / all_users_A\n",
    "ARPU_B = revenue_sum_B / all_users_B"
   ]
  },
  {
   "cell_type": "code",
   "execution_count": 17,
   "metadata": {
    "scrolled": true
   },
   "outputs": [
    {
     "data": {
      "text/html": [
       "<div>\n",
       "<style scoped>\n",
       "    .dataframe tbody tr th:only-of-type {\n",
       "        vertical-align: middle;\n",
       "    }\n",
       "\n",
       "    .dataframe tbody tr th {\n",
       "        vertical-align: top;\n",
       "    }\n",
       "\n",
       "    .dataframe thead th {\n",
       "        text-align: right;\n",
       "    }\n",
       "</style>\n",
       "<table border=\"1\" class=\"dataframe\">\n",
       "  <thead>\n",
       "    <tr style=\"text-align: right;\">\n",
       "      <th></th>\n",
       "      <th>group</th>\n",
       "      <th>revenue</th>\n",
       "      <th>CR</th>\n",
       "      <th>avg</th>\n",
       "      <th>ARPPU</th>\n",
       "      <th>ARPU</th>\n",
       "    </tr>\n",
       "  </thead>\n",
       "  <tbody>\n",
       "    <tr>\n",
       "      <th>0</th>\n",
       "      <td>A</td>\n",
       "      <td>93162.0</td>\n",
       "      <td>0.07</td>\n",
       "      <td>870.67</td>\n",
       "      <td>870.67</td>\n",
       "      <td>59.45</td>\n",
       "    </tr>\n",
       "    <tr>\n",
       "      <th>1</th>\n",
       "      <td>B</td>\n",
       "      <td>485575.0</td>\n",
       "      <td>0.06</td>\n",
       "      <td>1118.84</td>\n",
       "      <td>1118.84</td>\n",
       "      <td>70.14</td>\n",
       "    </tr>\n",
       "  </tbody>\n",
       "</table>\n",
       "</div>"
      ],
      "text/plain": [
       "  group   revenue    CR      avg    ARPPU   ARPU\n",
       "0     A   93162.0  0.07   870.67   870.67  59.45\n",
       "1     B  485575.0  0.06  1118.84  1118.84  70.14"
      ]
     },
     "execution_count": 17,
     "metadata": {},
     "output_type": "execute_result"
    }
   ],
   "source": [
    "metrics = pd.DataFrame({\n",
    "                        'group': ['A', 'B'],\n",
    "                        'revenue': [revenue_sum_A, revenue_sum_B],\n",
    "                        'CR': [CR_A, CR_B],\n",
    "                        'avg': [avg_A, avg_B],\n",
    "                        'ARPPU': [ARPPU_A, ARPPU_B],\n",
    "                        'ARPU': [ARPU_A, ARPU_B]\n",
    "                       })\n",
    "\n",
    "\n",
    "metrics.round(2)"
   ]
  },
  {
   "cell_type": "code",
   "execution_count": 24,
   "metadata": {
    "scrolled": true
   },
   "outputs": [
    {
     "data": {
      "text/html": [
       "<div>\n",
       "<style scoped>\n",
       "    .dataframe tbody tr th:only-of-type {\n",
       "        vertical-align: middle;\n",
       "    }\n",
       "\n",
       "    .dataframe tbody tr th {\n",
       "        vertical-align: top;\n",
       "    }\n",
       "\n",
       "    .dataframe thead th {\n",
       "        text-align: right;\n",
       "    }\n",
       "</style>\n",
       "<table border=\"1\" class=\"dataframe\">\n",
       "  <thead>\n",
       "    <tr style=\"text-align: right;\">\n",
       "      <th></th>\n",
       "      <th>country</th>\n",
       "      <th>platform</th>\n",
       "      <th>sex</th>\n",
       "      <th>revenue_A</th>\n",
       "      <th>revenue_B</th>\n",
       "      <th>avg_A</th>\n",
       "      <th>avg_B</th>\n",
       "      <th>purchase_A</th>\n",
       "      <th>purchase_B</th>\n",
       "      <th>arpu_A</th>\n",
       "      <th>arpu_B</th>\n",
       "      <th>CR_A</th>\n",
       "      <th>CR_B</th>\n",
       "      <th>diff_revenue</th>\n",
       "      <th>diff_avg</th>\n",
       "      <th>diff_arpu</th>\n",
       "      <th>diff_CR</th>\n",
       "    </tr>\n",
       "  </thead>\n",
       "  <tbody>\n",
       "    <tr>\n",
       "      <th>0</th>\n",
       "      <td>0</td>\n",
       "      <td>0</td>\n",
       "      <td>0</td>\n",
       "      <td>19564.0</td>\n",
       "      <td>87462.0</td>\n",
       "      <td>674.62</td>\n",
       "      <td>728.85</td>\n",
       "      <td>29</td>\n",
       "      <td>120</td>\n",
       "      <td>674.62</td>\n",
       "      <td>728.85</td>\n",
       "      <td>1.00</td>\n",
       "      <td>1.00</td>\n",
       "      <td>67898.0</td>\n",
       "      <td>54.23</td>\n",
       "      <td>54.23</td>\n",
       "      <td>0.00</td>\n",
       "    </tr>\n",
       "    <tr>\n",
       "      <th>1</th>\n",
       "      <td>Russia</td>\n",
       "      <td>android</td>\n",
       "      <td>female</td>\n",
       "      <td>9280.0</td>\n",
       "      <td>66263.0</td>\n",
       "      <td>843.64</td>\n",
       "      <td>1352.31</td>\n",
       "      <td>11</td>\n",
       "      <td>49</td>\n",
       "      <td>34.76</td>\n",
       "      <td>54.76</td>\n",
       "      <td>0.04</td>\n",
       "      <td>0.04</td>\n",
       "      <td>56983.0</td>\n",
       "      <td>508.67</td>\n",
       "      <td>20.01</td>\n",
       "      <td>-0.00</td>\n",
       "    </tr>\n",
       "    <tr>\n",
       "      <th>2</th>\n",
       "      <td>Russia</td>\n",
       "      <td>android</td>\n",
       "      <td>male</td>\n",
       "      <td>4382.0</td>\n",
       "      <td>65143.0</td>\n",
       "      <td>547.75</td>\n",
       "      <td>1206.35</td>\n",
       "      <td>8</td>\n",
       "      <td>54</td>\n",
       "      <td>18.03</td>\n",
       "      <td>51.37</td>\n",
       "      <td>0.03</td>\n",
       "      <td>0.04</td>\n",
       "      <td>60761.0</td>\n",
       "      <td>658.60</td>\n",
       "      <td>33.34</td>\n",
       "      <td>0.01</td>\n",
       "    </tr>\n",
       "    <tr>\n",
       "      <th>3</th>\n",
       "      <td>Russia</td>\n",
       "      <td>ios</td>\n",
       "      <td>female</td>\n",
       "      <td>11608.0</td>\n",
       "      <td>59630.0</td>\n",
       "      <td>892.92</td>\n",
       "      <td>1325.11</td>\n",
       "      <td>13</td>\n",
       "      <td>45</td>\n",
       "      <td>66.71</td>\n",
       "      <td>58.86</td>\n",
       "      <td>0.07</td>\n",
       "      <td>0.04</td>\n",
       "      <td>48022.0</td>\n",
       "      <td>432.19</td>\n",
       "      <td>-7.85</td>\n",
       "      <td>-0.03</td>\n",
       "    </tr>\n",
       "    <tr>\n",
       "      <th>4</th>\n",
       "      <td>Russia</td>\n",
       "      <td>ios</td>\n",
       "      <td>male</td>\n",
       "      <td>10137.0</td>\n",
       "      <td>48406.0</td>\n",
       "      <td>921.55</td>\n",
       "      <td>987.88</td>\n",
       "      <td>11</td>\n",
       "      <td>49</td>\n",
       "      <td>43.88</td>\n",
       "      <td>48.36</td>\n",
       "      <td>0.05</td>\n",
       "      <td>0.05</td>\n",
       "      <td>38269.0</td>\n",
       "      <td>66.33</td>\n",
       "      <td>4.47</td>\n",
       "      <td>0.00</td>\n",
       "    </tr>\n",
       "    <tr>\n",
       "      <th>5</th>\n",
       "      <td>Sweden</td>\n",
       "      <td>android</td>\n",
       "      <td>female</td>\n",
       "      <td>4145.0</td>\n",
       "      <td>37926.0</td>\n",
       "      <td>690.83</td>\n",
       "      <td>1149.27</td>\n",
       "      <td>6</td>\n",
       "      <td>33</td>\n",
       "      <td>25.59</td>\n",
       "      <td>57.29</td>\n",
       "      <td>0.04</td>\n",
       "      <td>0.05</td>\n",
       "      <td>33781.0</td>\n",
       "      <td>458.44</td>\n",
       "      <td>31.70</td>\n",
       "      <td>0.01</td>\n",
       "    </tr>\n",
       "    <tr>\n",
       "      <th>6</th>\n",
       "      <td>Sweden</td>\n",
       "      <td>android</td>\n",
       "      <td>male</td>\n",
       "      <td>22091.0</td>\n",
       "      <td>38950.0</td>\n",
       "      <td>1577.93</td>\n",
       "      <td>1180.30</td>\n",
       "      <td>14</td>\n",
       "      <td>33</td>\n",
       "      <td>136.36</td>\n",
       "      <td>60.20</td>\n",
       "      <td>0.09</td>\n",
       "      <td>0.05</td>\n",
       "      <td>16859.0</td>\n",
       "      <td>-397.63</td>\n",
       "      <td>-76.16</td>\n",
       "      <td>-0.04</td>\n",
       "    </tr>\n",
       "    <tr>\n",
       "      <th>7</th>\n",
       "      <td>Sweden</td>\n",
       "      <td>ios</td>\n",
       "      <td>female</td>\n",
       "      <td>6674.0</td>\n",
       "      <td>47195.0</td>\n",
       "      <td>953.43</td>\n",
       "      <td>1747.96</td>\n",
       "      <td>7</td>\n",
       "      <td>27</td>\n",
       "      <td>44.49</td>\n",
       "      <td>93.09</td>\n",
       "      <td>0.05</td>\n",
       "      <td>0.05</td>\n",
       "      <td>40521.0</td>\n",
       "      <td>794.53</td>\n",
       "      <td>48.59</td>\n",
       "      <td>0.01</td>\n",
       "    </tr>\n",
       "    <tr>\n",
       "      <th>8</th>\n",
       "      <td>Sweden</td>\n",
       "      <td>ios</td>\n",
       "      <td>male</td>\n",
       "      <td>5281.0</td>\n",
       "      <td>34600.0</td>\n",
       "      <td>660.12</td>\n",
       "      <td>1441.67</td>\n",
       "      <td>8</td>\n",
       "      <td>24</td>\n",
       "      <td>35.44</td>\n",
       "      <td>69.90</td>\n",
       "      <td>0.05</td>\n",
       "      <td>0.05</td>\n",
       "      <td>29319.0</td>\n",
       "      <td>781.54</td>\n",
       "      <td>34.46</td>\n",
       "      <td>-0.01</td>\n",
       "    </tr>\n",
       "  </tbody>\n",
       "</table>\n",
       "</div>"
      ],
      "text/plain": [
       "  country platform     sex  revenue_A  revenue_B    avg_A    avg_B  \\\n",
       "0       0        0       0    19564.0    87462.0   674.62   728.85   \n",
       "1  Russia  android  female     9280.0    66263.0   843.64  1352.31   \n",
       "2  Russia  android    male     4382.0    65143.0   547.75  1206.35   \n",
       "3  Russia      ios  female    11608.0    59630.0   892.92  1325.11   \n",
       "4  Russia      ios    male    10137.0    48406.0   921.55   987.88   \n",
       "5  Sweden  android  female     4145.0    37926.0   690.83  1149.27   \n",
       "6  Sweden  android    male    22091.0    38950.0  1577.93  1180.30   \n",
       "7  Sweden      ios  female     6674.0    47195.0   953.43  1747.96   \n",
       "8  Sweden      ios    male     5281.0    34600.0   660.12  1441.67   \n",
       "\n",
       "   purchase_A  purchase_B  arpu_A  arpu_B  CR_A  CR_B  diff_revenue  diff_avg  \\\n",
       "0          29         120  674.62  728.85  1.00  1.00       67898.0     54.23   \n",
       "1          11          49   34.76   54.76  0.04  0.04       56983.0    508.67   \n",
       "2           8          54   18.03   51.37  0.03  0.04       60761.0    658.60   \n",
       "3          13          45   66.71   58.86  0.07  0.04       48022.0    432.19   \n",
       "4          11          49   43.88   48.36  0.05  0.05       38269.0     66.33   \n",
       "5           6          33   25.59   57.29  0.04  0.05       33781.0    458.44   \n",
       "6          14          33  136.36   60.20  0.09  0.05       16859.0   -397.63   \n",
       "7           7          27   44.49   93.09  0.05  0.05       40521.0    794.53   \n",
       "8           8          24   35.44   69.90  0.05  0.05       29319.0    781.54   \n",
       "\n",
       "   diff_arpu  diff_CR  \n",
       "0      54.23     0.00  \n",
       "1      20.01    -0.00  \n",
       "2      33.34     0.01  \n",
       "3      -7.85    -0.03  \n",
       "4       4.47     0.00  \n",
       "5      31.70     0.01  \n",
       "6     -76.16    -0.04  \n",
       "7      48.59     0.01  \n",
       "8      34.46    -0.01  "
      ]
     },
     "execution_count": 24,
     "metadata": {},
     "output_type": "execute_result"
    }
   ],
   "source": [
    "# формируем табличку с расчетом метрик в разрезе страны, пола и платформы\n",
    "avg_users_A = users.query('purchase == 1 and group == \"A\"').groupby(['group', 'country', 'platform', 'sex'], as_index=False)\\\n",
    "                .agg({'revenue':'mean'})\n",
    "avg_users_B = users.query('purchase == 1 and group == \"B\"').groupby(['group', 'country', 'platform', 'sex'], as_index=False)\\\n",
    "                .agg({'revenue':'mean'})\n",
    "count_users_A = users.query('group == \"A\"').groupby(['group', 'country', 'platform', 'sex'], as_index=False)\\\n",
    "                .agg({'revenue':'count'})\n",
    "count_users_B = users.query('group == \"B\"').groupby(['group', 'country', 'platform', 'sex'], as_index=False)\\\n",
    "                .agg({'revenue':'count'})\n",
    "count_purchase_users_A = users.query('purchase == 1 and group == \"A\"').groupby(['group', 'country', 'platform', 'sex'], as_index=False)\\\n",
    "                .agg({'purchase':'count'})\n",
    "count_purchase_users_B = users.query('purchase == 1 and group == \"B\"').groupby(['group', 'country', 'platform', 'sex'], as_index=False)\\\n",
    "                .agg({'purchase':'count'})\n",
    "\n",
    "\n",
    "revenue_users_A = users.query('group == \"A\"').groupby(['group', 'country', 'platform', 'sex'], as_index=False)\\\n",
    "                .agg({'revenue':'sum'})\n",
    "revenue_users_B = users.query('group == \"B\"').groupby(['group', 'country', 'platform', 'sex'], as_index=False)\\\n",
    "                .agg({'revenue':'sum'})\n",
    "\n",
    "revenue_users_A['avg_A'] = avg_users_A.revenue\n",
    "revenue_users_B['avg_B'] = avg_users_B.revenue\n",
    "\n",
    "revenue_users_A['user_count_A'] = count_users_A.revenue\n",
    "revenue_users_B['user_count_B'] = count_users_B.revenue\n",
    "\n",
    "revenue_users_A['purchase_A'] = count_purchase_users_A.purchase\n",
    "revenue_users_B['purchase_B'] = count_purchase_users_B.purchase\n",
    "\n",
    "revenue_users_A['arpu_A'] = revenue_users_A.revenue / revenue_users_A.user_count_A\n",
    "revenue_users_B['arpu_B'] = revenue_users_B.revenue / revenue_users_B.user_count_B\n",
    "\n",
    "revenue_users_A['CR_A'] = revenue_users_A.purchase_A / revenue_users_A.user_count_A\n",
    "revenue_users_B['CR_B'] = revenue_users_B.purchase_B / revenue_users_B.user_count_B\n",
    "\n",
    "revenue_users_A = revenue_users_A.rename(columns={'revenue': 'revenue_A'})\n",
    "revenue_users_B = revenue_users_B.rename(columns={'revenue': 'revenue_B','country': 'country_B', 'platform': 'platform_B', 'sex': 'sex_B'})\n",
    "\n",
    "metrics_users = pd.concat([revenue_users_A, revenue_users_B], axis=1)[['country', 'platform', 'sex', 'revenue_A', 'revenue_B','avg_A', 'avg_B','purchase_A', 'purchase_B','arpu_A', 'arpu_B','CR_A', 'CR_B',]]\n",
    "metrics_users['diff_revenue'] = metrics_users.revenue_B - metrics_users.revenue_A\n",
    "metrics_users['diff_avg'] = metrics_users.avg_B - metrics_users.avg_A\n",
    "metrics_users['diff_arpu'] = metrics_users.arpu_B - metrics_users.arpu_A\n",
    "metrics_users['diff_CR'] = metrics_users.CR_B - metrics_users.CR_A\n",
    "metrics_users = metrics_users.round(2)\n",
    "metrics_users"
   ]
  },
  {
   "cell_type": "code",
   "execution_count": 33,
   "metadata": {},
   "outputs": [
    {
     "data": {
      "text/html": [
       "<div>\n",
       "<style scoped>\n",
       "    .dataframe tbody tr th:only-of-type {\n",
       "        vertical-align: middle;\n",
       "    }\n",
       "\n",
       "    .dataframe tbody tr th {\n",
       "        vertical-align: top;\n",
       "    }\n",
       "\n",
       "    .dataframe thead th {\n",
       "        text-align: right;\n",
       "    }\n",
       "</style>\n",
       "<table border=\"1\" class=\"dataframe\">\n",
       "  <thead>\n",
       "    <tr style=\"text-align: right;\">\n",
       "      <th></th>\n",
       "      <th>country</th>\n",
       "      <th>diff_revenue</th>\n",
       "      <th>sex</th>\n",
       "      <th>diff_revenue</th>\n",
       "      <th>diff_avg</th>\n",
       "      <th>diff_arpu</th>\n",
       "      <th>diff_CR</th>\n",
       "    </tr>\n",
       "  </thead>\n",
       "  <tbody>\n",
       "    <tr>\n",
       "      <th>0</th>\n",
       "      <td>0</td>\n",
       "      <td>67898.0</td>\n",
       "      <td>0</td>\n",
       "      <td>67898.0</td>\n",
       "      <td>54.23</td>\n",
       "      <td>54.23</td>\n",
       "      <td>0.00</td>\n",
       "    </tr>\n",
       "    <tr>\n",
       "      <th>1</th>\n",
       "      <td>Russia</td>\n",
       "      <td>56983.0</td>\n",
       "      <td>female</td>\n",
       "      <td>56983.0</td>\n",
       "      <td>508.67</td>\n",
       "      <td>20.01</td>\n",
       "      <td>-0.00</td>\n",
       "    </tr>\n",
       "    <tr>\n",
       "      <th>2</th>\n",
       "      <td>Russia</td>\n",
       "      <td>60761.0</td>\n",
       "      <td>male</td>\n",
       "      <td>60761.0</td>\n",
       "      <td>658.60</td>\n",
       "      <td>33.34</td>\n",
       "      <td>0.01</td>\n",
       "    </tr>\n",
       "    <tr>\n",
       "      <th>3</th>\n",
       "      <td>Russia</td>\n",
       "      <td>48022.0</td>\n",
       "      <td>female</td>\n",
       "      <td>48022.0</td>\n",
       "      <td>432.19</td>\n",
       "      <td>-7.85</td>\n",
       "      <td>-0.03</td>\n",
       "    </tr>\n",
       "    <tr>\n",
       "      <th>4</th>\n",
       "      <td>Russia</td>\n",
       "      <td>38269.0</td>\n",
       "      <td>male</td>\n",
       "      <td>38269.0</td>\n",
       "      <td>66.33</td>\n",
       "      <td>4.47</td>\n",
       "      <td>0.00</td>\n",
       "    </tr>\n",
       "    <tr>\n",
       "      <th>5</th>\n",
       "      <td>Sweden</td>\n",
       "      <td>33781.0</td>\n",
       "      <td>female</td>\n",
       "      <td>33781.0</td>\n",
       "      <td>458.44</td>\n",
       "      <td>31.70</td>\n",
       "      <td>0.01</td>\n",
       "    </tr>\n",
       "    <tr>\n",
       "      <th>6</th>\n",
       "      <td>Sweden</td>\n",
       "      <td>16859.0</td>\n",
       "      <td>male</td>\n",
       "      <td>16859.0</td>\n",
       "      <td>-397.63</td>\n",
       "      <td>-76.16</td>\n",
       "      <td>-0.04</td>\n",
       "    </tr>\n",
       "    <tr>\n",
       "      <th>7</th>\n",
       "      <td>Sweden</td>\n",
       "      <td>40521.0</td>\n",
       "      <td>female</td>\n",
       "      <td>40521.0</td>\n",
       "      <td>794.53</td>\n",
       "      <td>48.59</td>\n",
       "      <td>0.01</td>\n",
       "    </tr>\n",
       "    <tr>\n",
       "      <th>8</th>\n",
       "      <td>Sweden</td>\n",
       "      <td>29319.0</td>\n",
       "      <td>male</td>\n",
       "      <td>29319.0</td>\n",
       "      <td>781.54</td>\n",
       "      <td>34.46</td>\n",
       "      <td>-0.01</td>\n",
       "    </tr>\n",
       "  </tbody>\n",
       "</table>\n",
       "</div>"
      ],
      "text/plain": [
       "  country  diff_revenue     sex  diff_revenue  diff_avg  diff_arpu  diff_CR\n",
       "0       0       67898.0       0       67898.0     54.23      54.23     0.00\n",
       "1  Russia       56983.0  female       56983.0    508.67      20.01    -0.00\n",
       "2  Russia       60761.0    male       60761.0    658.60      33.34     0.01\n",
       "3  Russia       48022.0  female       48022.0    432.19      -7.85    -0.03\n",
       "4  Russia       38269.0    male       38269.0     66.33       4.47     0.00\n",
       "5  Sweden       33781.0  female       33781.0    458.44      31.70     0.01\n",
       "6  Sweden       16859.0    male       16859.0   -397.63     -76.16    -0.04\n",
       "7  Sweden       40521.0  female       40521.0    794.53      48.59     0.01\n",
       "8  Sweden       29319.0    male       29319.0    781.54      34.46    -0.01"
      ]
     },
     "execution_count": 33,
     "metadata": {},
     "output_type": "execute_result"
    }
   ],
   "source": [
    "metrics_users[['country','diff_revenue', 'sex', 'diff_revenue', 'diff_avg', 'diff_arpu', 'diff_CR']]"
   ]
  },
  {
   "cell_type": "markdown",
   "metadata": {},
   "source": [
    "наибольшая разница наблюдается в показателях у польз-лей Швеции на IOS и у польз-лей России на android"
   ]
  },
  {
   "cell_type": "code",
   "execution_count": 34,
   "metadata": {},
   "outputs": [],
   "source": [
    "# добавляем колонку CR в датафрейм\n",
    "CR_group_A = users.purchase / all_users_A\n",
    "CR_group_B = users.purchase / all_users_B\n",
    "users['CR'] = np.where(users.group == 'A', CR_group_A, CR_group_B)"
   ]
  },
  {
   "cell_type": "code",
   "execution_count": 35,
   "metadata": {},
   "outputs": [
    {
     "name": "stdout",
     "output_type": "stream",
     "text": [
      "True True\n",
      "True True\n"
     ]
    }
   ],
   "source": [
    "# проверка расчетов == True\n",
    "print(round(CR_A, 2) == round(users.query('group == \"A\"').CR.sum(), 2),\n",
    "      round(CR_B, 2) == round(users.query('group == \"B\"').CR.sum(), 2))\n",
    "print(round(ARPU_A, 2) == round(ARPPU_A * CR_A, 2),\n",
    "      round(ARPU_B, 2) == round(ARPPU_B * CR_B, 2))"
   ]
  },
  {
   "cell_type": "code",
   "execution_count": 36,
   "metadata": {},
   "outputs": [
    {
     "name": "stdout",
     "output_type": "stream",
     "text": [
      "3671.0 4660.0\n"
     ]
    }
   ],
   "source": [
    "print(users[users.group == 'A'].revenue.max(),\n",
    "      users[users.group == 'B'].revenue.max())\n",
    "# максимальные значения отличаются не критично"
   ]
  },
  {
   "cell_type": "markdown",
   "metadata": {},
   "source": [
    "В таблице metrics видна тенденция увеличения всех показателей, кроме конверсии в покупку.\n",
    "По показателю выручки обнаружена наибольшая разница (в группе 'B' в 5 раз больше), \n",
    "однако при анализе исходных данных (groups) видно, \n",
    "что количество польз-лей в тестовой группе в 4 раза больше, чем в контрольной.\n",
    "\n",
    "Предварительный вывод: пользователи из тестовой группы больше тратят денег на приложение."
   ]
  },
  {
   "cell_type": "markdown",
   "metadata": {},
   "source": [
    "## А/В тестирование по показателям: revenue, CR, ARPU"
   ]
  },
  {
   "cell_type": "code",
   "execution_count": 37,
   "metadata": {},
   "outputs": [],
   "source": [
    "# для комментариев\n",
    "def pvalue(p):\n",
    "    if p <= 0.05/3:                                       # Поправка Бонферони\n",
    "        print('Статистически значимые различия есть')\n",
    "    else:\n",
    "        print('Статистически значимых различий нет')\n",
    "    return (p)\n",
    "\n",
    "def shapiro_pvalue(p):\n",
    "    if p <= 0.05/3:\n",
    "        print('Рапределение отличается от нормального')\n",
    "    else:\n",
    "        print('Рапределение нормальное')\n",
    "    return (p)"
   ]
  },
  {
   "cell_type": "markdown",
   "metadata": {},
   "source": [
    "1. Revenue"
   ]
  },
  {
   "cell_type": "code",
   "execution_count": 38,
   "metadata": {},
   "outputs": [
    {
     "name": "stdout",
     "output_type": "stream",
     "text": [
      "Рапределение отличается от нормального\n",
      "Рапределение отличается от нормального\n"
     ]
    },
    {
     "data": {
      "text/plain": [
       "0.0"
      ]
     },
     "execution_count": 38,
     "metadata": {},
     "output_type": "execute_result"
    }
   ],
   "source": [
    "#проверка нормальности распределения\n",
    "from scipy.stats import shapiro\n",
    "test_A = users[users.group == 'A'].revenue\n",
    "test_B = users[users.group == 'B'].revenue\n",
    "stat, p_A = stats.shapiro(test_A.sample(1000, random_state = 17))\n",
    "stat, p_B = stats.shapiro(test_B.sample(1000, random_state = 17))\n",
    "\n",
    "shapiro_pvalue(p_A)\n",
    "shapiro_pvalue(p_B)"
   ]
  },
  {
   "cell_type": "code",
   "execution_count": 39,
   "metadata": {
    "scrolled": true
   },
   "outputs": [
    {
     "data": {
      "text/plain": [
       "<seaborn.axisgrid.FacetGrid at 0x7fb9ba9e2be0>"
      ]
     },
     "execution_count": 39,
     "metadata": {},
     "output_type": "execute_result"
    },
    {
     "data": {
      "image/png": "[encoded data removed]",
      "text/plain": [
       "<Figure size 360x360 with 1 Axes>"
      ]
     },
     "metadata": {
      "needs_background": "light"
     },
     "output_type": "display_data"
    },
    {
     "data": {
      "image/png": "[encoded data removed]",
      "text/plain": [
       "<Figure size 360x360 with 1 Axes>"
      ]
     },
     "metadata": {
      "needs_background": "light"
     },
     "output_type": "display_data"
    }
   ],
   "source": [
    "#визуализация распределения\n",
    "sns.displot(test_A)\n",
    "sns.displot(test_B)"
   ]
  },
  {
   "cell_type": "code",
   "execution_count": 40,
   "metadata": {},
   "outputs": [
    {
     "name": "stdout",
     "output_type": "stream",
     "text": [
      "Статистически значимых различий нет\n"
     ]
    },
    {
     "data": {
      "text/plain": [
       "0.5033868440268043"
      ]
     },
     "execution_count": 40,
     "metadata": {},
     "output_type": "execute_result"
    }
   ],
   "source": [
    "# А/Б тест Revenue с помощью метода Манна-Уитни U\n",
    "from scipy.stats import mannwhitneyu\n",
    "stat, p = mannwhitneyu(test_A, test_B)\n",
    "\n",
    "pvalue(p)"
   ]
  },
  {
   "cell_type": "markdown",
   "metadata": {},
   "source": [
    "2. Конверсия в покупку (CR)"
   ]
  },
  {
   "cell_type": "code",
   "execution_count": 41,
   "metadata": {},
   "outputs": [
    {
     "name": "stdout",
     "output_type": "stream",
     "text": [
      "Рапределение отличается от нормального\n",
      "Рапределение отличается от нормального\n"
     ]
    },
    {
     "data": {
      "text/plain": [
       "0.0"
      ]
     },
     "execution_count": 41,
     "metadata": {},
     "output_type": "execute_result"
    }
   ],
   "source": [
    "#проверка нормальности распределения\n",
    "\n",
    "test_CR_A = users[users.group == 'A'].CR\n",
    "test_CR_B = users[users.group == 'B'].CR\n",
    "stat, p_A = stats.shapiro(test_CR_A.sample(1000, random_state = 17))\n",
    "stat, p_B = stats.shapiro(test_CR_B.sample(1000, random_state = 17))\n",
    "\n",
    "shapiro_pvalue(p_A)\n",
    "shapiro_pvalue(p_B)"
   ]
  },
  {
   "cell_type": "code",
   "execution_count": 42,
   "metadata": {},
   "outputs": [
    {
     "name": "stdout",
     "output_type": "stream",
     "text": [
      "Статистически значимых различий нет\n"
     ]
    },
    {
     "data": {
      "text/plain": [
       "0.14860270726904024"
      ]
     },
     "execution_count": 42,
     "metadata": {},
     "output_type": "execute_result"
    }
   ],
   "source": [
    "# А/Б тест CR с помощью метода Манна-Уитни U\n",
    "\n",
    "stat, p = mannwhitneyu(test_CR_A, test_CR_B)\n",
    "\n",
    "pvalue(p)"
   ]
  },
  {
   "cell_type": "markdown",
   "metadata": {},
   "source": [
    " 3. ARPU"
   ]
  },
  {
   "cell_type": "code",
   "execution_count": 43,
   "metadata": {},
   "outputs": [],
   "source": [
    "# добавляем колонку ARPU в датафрейм\n",
    "ARPU_group_A = users.revenue / all_users_A\n",
    "ARPU_group_B = users.revenue / all_users_B\n",
    "users['ARPU'] = np.where(users.group == 'A', ARPU_group_A, ARPU_group_B)"
   ]
  },
  {
   "cell_type": "code",
   "execution_count": 44,
   "metadata": {
    "scrolled": true
   },
   "outputs": [
    {
     "name": "stdout",
     "output_type": "stream",
     "text": [
      "True True\n"
     ]
    }
   ],
   "source": [
    "# проверка расчетов == True\n",
    "print(round(users.query('group == \"A\"').ARPU.sum(),2) == round(ARPU_A,2),\n",
    "      round(users.query('group == \"B\"').ARPU.sum(),2) == round(ARPU_B,2))"
   ]
  },
  {
   "cell_type": "code",
   "execution_count": 45,
   "metadata": {
    "scrolled": true
   },
   "outputs": [
    {
     "name": "stdout",
     "output_type": "stream",
     "text": [
      "Рапределение отличается от нормального\n",
      "Рапределение отличается от нормального\n"
     ]
    },
    {
     "data": {
      "text/plain": [
       "0.0"
      ]
     },
     "execution_count": 45,
     "metadata": {},
     "output_type": "execute_result"
    }
   ],
   "source": [
    "#проверка нормальности распределения\n",
    "\n",
    "test_ARPU_A = users[users.group == 'A'].ARPU\n",
    "test_ARPU_B = users[users.group == 'B'].ARPU\n",
    "stat, p_A = stats.shapiro(test_ARPU_A.sample(1000, random_state = 17))\n",
    "stat, p_B = stats.shapiro(test_ARPU_B.sample(1000, random_state = 17))\n",
    "\n",
    "shapiro_pvalue(p_A)\n",
    "shapiro_pvalue(p_B)"
   ]
  },
  {
   "cell_type": "code",
   "execution_count": 46,
   "metadata": {
    "scrolled": true
   },
   "outputs": [
    {
     "name": "stdout",
     "output_type": "stream",
     "text": [
      "Статистически значимых различий нет\n"
     ]
    },
    {
     "data": {
      "text/plain": [
       "0.20910382585315024"
      ]
     },
     "execution_count": 46,
     "metadata": {},
     "output_type": "execute_result"
    }
   ],
   "source": [
    "# А/Б тест ARPU с помощью метода Манна-Уитни U\n",
    "stat, p = mannwhitneyu(test_ARPU_A, test_ARPU_B)\n",
    "\n",
    "pvalue(p)"
   ]
  },
  {
   "cell_type": "markdown",
   "metadata": {},
   "source": [
    "Поищем взаимосвязь между фактом покупки и полом/платформой/страной пользователя по группам c помощь метода хи-квадрат"
   ]
  },
  {
   "cell_type": "code",
   "execution_count": 47,
   "metadata": {},
   "outputs": [
    {
     "name": "stdout",
     "output_type": "stream",
     "text": [
      "Статистически значимых различий нет\n",
      "Статистически значимых различий нет\n",
      "Статистически значимых различий нет\n",
      "Статистически значимых различий нет\n",
      "Статистически значимых различий нет\n",
      "Статистически значимых различий нет\n"
     ]
    },
    {
     "data": {
      "text/plain": [
       "0.23025488232039207"
      ]
     },
     "execution_count": 47,
     "metadata": {},
     "output_type": "execute_result"
    }
   ],
   "source": [
    "purchase_chi2 = users[['group','country','purchase', 'platform', 'sex']].query('platform != 0')\n",
    "purchase_chi2['purchase'] = np.where(purchase_chi2['purchase'] == 1, 'purchase', 'no_purchase')\n",
    "\n",
    "from scipy.stats import chi2_contingency, chi2 \n",
    "#взаимосвязь факта покупки с полом пользователя\n",
    "stat1, p1, dof1, expected1 = chi2_contingency(pd.crosstab(purchase_chi2.query('group == \"A\"').purchase, purchase_chi2.query('group == \"A\"').sex))\n",
    "stat2, p2, dof2, expected2 = chi2_contingency(pd.crosstab(purchase_chi2.query('group == \"B\"').purchase, purchase_chi2.query('group == \"B\"').sex))\n",
    "\n",
    "#взаимосвязь факта покупки с платформой пользователя\n",
    "stat3, p3, dof3, expected3 = chi2_contingency(pd.crosstab(purchase_chi2.query('group == \"A\"').purchase, purchase_chi2.query('group == \"A\"').platform))\n",
    "stat4, p4, dof4, expected4 = chi2_contingency(pd.crosstab(purchase_chi2.query('group == \"B\"').purchase, purchase_chi2.query('group == \"B\"').platform))\n",
    "\n",
    "#взаимосвязь факта покупки с страной пользователя\n",
    "stat5, p5, dof5, expected5 = chi2_contingency(pd.crosstab(purchase_chi2.query('group == \"A\"').purchase, purchase_chi2.query('group == \"A\"').country))\n",
    "stat6, p6, dof6, expected6 = chi2_contingency(pd.crosstab(purchase_chi2.query('group == \"B\"').purchase, purchase_chi2.query('group == \"B\"').country))\n",
    "\n",
    "pvalue(p1)\n",
    "pvalue(p2)\n",
    "pvalue(p3)\n",
    "pvalue(p4)\n",
    "pvalue(p5)\n",
    "pvalue(p6)"
   ]
  },
  {
   "cell_type": "markdown",
   "metadata": {},
   "source": [
    "# Выводы:\n",
    "По результатам исследования мы не можем отлонить нулевую гипотезу и внедрить новую систему оплаты для всех пользователей.\n",
    "\n",
    "По результатам анализа таблицы metrics_users стоит обратить внимание:\n",
    "    - в Швеции с новой моделью оплаты стикеров показатели денежных метрик растут у всех пользователей, кроме мужчин на андроиде. \n",
    "    - в России наблюдает рост метрик для пользователей платформы андроид, в то время как у пользователей платформы ios наблюдается спад.\n",
    "Возможно, стоит проверить данные группы пользователей на наличие багов в системе оплаты, или провести соц. опрос.\n",
    "Если действительно, в нашей новой системе оплаты скрыты баги, то необходимо найти их, исправить и провести новый А/Б тест."
   ]
  }
 ],
 "metadata": {
  "kernelspec": {
   "display_name": "Python 3",
   "language": "python",
   "name": "python3"
  },
  "language_info": {
   "codemirror_mode": {
    "name": "ipython",
    "version": 3
   },
   "file_extension": ".py",
   "mimetype": "text/x-python",
   "name": "python",
   "nbconvert_exporter": "python",
   "pygments_lexer": "ipython3",
   "version": "3.7.3"
  }
 },
 "nbformat": 4,
 "nbformat_minor": 4
}
